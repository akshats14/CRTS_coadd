{
 "cells": [
  {
   "cell_type": "code",
   "execution_count": 14,
   "metadata": {},
   "outputs": [],
   "source": [
    "import numpy as np\n",
    "import pandas as pd\n",
    "from astropy.table import Table"
   ]
  },
  {
   "cell_type": "code",
   "execution_count": 33,
   "metadata": {
    "scrolled": false
   },
   "outputs": [
    {
     "data": {
      "text/html": [
       "&lt;Table length=7785&gt;\n",
       "<table id=\"table4641286672\" class=\"table-striped table-bordered table-condensed\">\n",
       "<thead><tr><th>Field</th><th>r1</th><th>d1</th><th>r2</th><th>d2</th><th>r3</th><th>d3</th><th>r4</th><th>d4</th><th>CT</th><th>CN</th></tr></thead>\n",
       "<thead><tr><th>str6</th><th>float64</th><th>float64</th><th>float64</th><th>float64</th><th>float64</th><th>float64</th><th>float64</th><th>float64</th><th>int64</th><th>int64</th></tr></thead>\n",
       "<tr><td>UA2603</td><td>167.842</td><td>61.2427</td><td>168.2033</td><td>64.3009</td><td>160.8866</td><td>64.301</td><td>161.2478</td><td>61.2427</td><td>4</td><td>4</td></tr>\n",
       "<tr><td>U38FDB</td><td>252.2173</td><td>6.9648</td><td>252.2292</td><td>9.97</td><td>249.161</td><td>9.97</td><td>249.1729</td><td>6.9648</td><td>4</td><td>4</td></tr>\n",
       "<tr><td>U381B7</td><td>238.3442</td><td>3.6422</td><td>238.3514</td><td>6.6462</td><td>235.3145</td><td>6.6462</td><td>235.3216</td><td>3.6422</td><td>4</td><td>4</td></tr>\n",
       "<tr><td>U194F8</td><td>59.7955</td><td>2.5034</td><td>59.8011</td><td>5.5207</td><td>56.7628</td><td>5.5207</td><td>56.7684</td><td>2.5034</td><td>4</td><td>4</td></tr>\n",
       "<tr><td>N49031</td><td>130.5387</td><td>47.6746</td><td>130.748</td><td>51.0515</td><td>124.4523</td><td>51.0516</td><td>124.6615</td><td>47.6746</td><td>234</td><td>243</td></tr>\n",
       "<tr><td>S09126</td><td>357.6176</td><td>-11.504</td><td>357.6003</td><td>-8.3002</td><td>354.0705</td><td>-8.3003</td><td>354.0531</td><td>-11.504</td><td>198</td><td>202</td></tr>\n",
       "<tr><td>U60896</td><td>314.7049</td><td>-5.0541</td><td>314.7</td><td>-2.0361</td><td>311.6704</td><td>-2.0361</td><td>311.6654</td><td>-5.0541</td><td>4</td><td>4</td></tr>\n",
       "<tr><td>N57053</td><td>269.2339</td><td>56.1609</td><td>269.5174</td><td>59.4613</td><td>263.0468</td><td>59.4614</td><td>263.3302</td><td>56.1609</td><td>111</td><td>119</td></tr>\n",
       "<tr><td>S23099</td><td>302.3244</td><td>-25.5322</td><td>302.2812</td><td>-22.4184</td><td>298.7501</td><td>-22.4184</td><td>298.7068</td><td>-25.5322</td><td>29</td><td>30</td></tr>\n",
       "<tr><td>N57057</td><td>289.4298</td><td>56.1311</td><td>289.6969</td><td>59.3521</td><td>283.4408</td><td>59.3521</td><td>283.7078</td><td>56.1311</td><td>20</td><td>28</td></tr>\n",
       "<tr><td>...</td><td>...</td><td>...</td><td>...</td><td>...</td><td>...</td><td>...</td><td>...</td><td>...</td><td>...</td><td>...</td></tr>\n",
       "<tr><td>FK1405</td><td>129.3835</td><td>60.5414</td><td>129.7337</td><td>63.612</td><td>122.4672</td><td>63.612</td><td>122.8174</td><td>60.5414</td><td>10</td><td>16</td></tr>\n",
       "<tr><td>S26066</td><td>204.9903</td><td>-28.3482</td><td>204.9412</td><td>-25.2047</td><td>201.4433</td><td>-25.2047</td><td>201.3942</td><td>-28.3483</td><td>44</td><td>52</td></tr>\n",
       "<tr><td>UERIC1</td><td>122.7657</td><td>36.8703</td><td>122.8473</td><td>39.8821</td><td>118.8506</td><td>39.8821</td><td>118.9321</td><td>36.8703</td><td>4</td><td>5</td></tr>\n",
       "<tr><td>FB0201</td><td>109.4775</td><td>39.0629</td><td>109.5693</td><td>42.0875</td><td>105.421</td><td>42.0876</td><td>105.5127</td><td>39.0629</td><td>4</td><td>24</td></tr>\n",
       "<tr><td>FA2004</td><td>122.7377</td><td>12.8651</td><td>122.7591</td><td>15.8984</td><td>119.5971</td><td>15.8984</td><td>119.6184</td><td>12.8651</td><td>4</td><td>4</td></tr>\n",
       "<tr><td>S18112</td><td>328.2668</td><td>-19.9391</td><td>328.2323</td><td>-16.7117</td><td>324.575</td><td>-16.7117</td><td>324.5406</td><td>-19.9391</td><td>179</td><td>183</td></tr>\n",
       "<tr><td>S21084</td><td>250.0762</td><td>-22.7509</td><td>250.039</td><td>-19.555</td><td>246.6332</td><td>-19.555</td><td>246.5961</td><td>-22.7509</td><td>66</td><td>78</td></tr>\n",
       "<tr><td>S07012</td><td>34.9262</td><td>-8.6328</td><td>34.912</td><td>-5.4469</td><td>30.7721</td><td>-5.4469</td><td>30.7578</td><td>-8.6328</td><td>280</td><td>293</td></tr>\n",
       "<tr><td>N07097</td><td>275.0373</td><td>5.5776</td><td>275.0472</td><td>8.5879</td><td>271.9909</td><td>8.5879</td><td>272.0008</td><td>5.5776</td><td>3</td><td>3</td></tr>\n",
       "<tr><td>FC2705</td><td>225.7757</td><td>-3.951</td><td>225.7723</td><td>-0.9362</td><td>222.7417</td><td>-0.9362</td><td>222.7383</td><td>-3.951</td><td>4</td><td>8</td></tr>\n",
       "</table>"
      ],
      "text/plain": [
       "<Table length=7785>\n",
       "Field     r1       d1       r2       d2    ...    r4       d4      CT    CN \n",
       " str6  float64  float64  float64  float64  ... float64  float64  int64 int64\n",
       "------ -------- -------- -------- -------- ... -------- -------- ----- -----\n",
       "UA2603  167.842  61.2427 168.2033  64.3009 ... 161.2478  61.2427     4     4\n",
       "U38FDB 252.2173   6.9648 252.2292     9.97 ... 249.1729   6.9648     4     4\n",
       "U381B7 238.3442   3.6422 238.3514   6.6462 ... 235.3216   3.6422     4     4\n",
       "U194F8  59.7955   2.5034  59.8011   5.5207 ...  56.7684   2.5034     4     4\n",
       "N49031 130.5387  47.6746  130.748  51.0515 ... 124.6615  47.6746   234   243\n",
       "S09126 357.6176  -11.504 357.6003  -8.3002 ... 354.0531  -11.504   198   202\n",
       "U60896 314.7049  -5.0541    314.7  -2.0361 ... 311.6654  -5.0541     4     4\n",
       "N57053 269.2339  56.1609 269.5174  59.4613 ... 263.3302  56.1609   111   119\n",
       "S23099 302.3244 -25.5322 302.2812 -22.4184 ... 298.7068 -25.5322    29    30\n",
       "N57057 289.4298  56.1311 289.6969  59.3521 ... 283.7078  56.1311    20    28\n",
       "   ...      ...      ...      ...      ... ...      ...      ...   ...   ...\n",
       "FK1405 129.3835  60.5414 129.7337   63.612 ... 122.8174  60.5414    10    16\n",
       "S26066 204.9903 -28.3482 204.9412 -25.2047 ... 201.3942 -28.3483    44    52\n",
       "UERIC1 122.7657  36.8703 122.8473  39.8821 ... 118.9321  36.8703     4     5\n",
       "FB0201 109.4775  39.0629 109.5693  42.0875 ... 105.5127  39.0629     4    24\n",
       "FA2004 122.7377  12.8651 122.7591  15.8984 ... 119.6184  12.8651     4     4\n",
       "S18112 328.2668 -19.9391 328.2323 -16.7117 ... 324.5406 -19.9391   179   183\n",
       "S21084 250.0762 -22.7509  250.039  -19.555 ... 246.5961 -22.7509    66    78\n",
       "S07012  34.9262  -8.6328   34.912  -5.4469 ...  30.7578  -8.6328   280   293\n",
       "N07097 275.0373   5.5776 275.0472   8.5879 ... 272.0008   5.5776     3     3\n",
       "FC2705 225.7757   -3.951 225.7723  -0.9362 ... 222.7383   -3.951     4     8"
      ]
     },
     "execution_count": 33,
     "metadata": {},
     "output_type": "execute_result"
    }
   ],
   "source": [
    "coord=Table.read('CORD_coord.txt',format='ascii')\n",
    "coord"
   ]
  },
  {
   "cell_type": "code",
   "execution_count": 35,
   "metadata": {},
   "outputs": [
    {
     "data": {
      "text/html": [
       "&lt;Table length=7894&gt;\n",
       "<table id=\"table4816696208\" class=\"table-striped table-bordered table-condensed\">\n",
       "<thead><tr><th>Field</th><th>number</th></tr></thead>\n",
       "<thead><tr><th>str8</th><th>int64</th></tr></thead>\n",
       "<tr><td>2002LZ11</td><td>4</td></tr>\n",
       "<tr><td>2002lz11</td><td>4</td></tr>\n",
       "<tr><td>D8B8</td><td>8</td></tr>\n",
       "<tr><td>D9A2</td><td>13</td></tr>\n",
       "<tr><td>DAC2</td><td>4</td></tr>\n",
       "<tr><td>DAC3</td><td>12</td></tr>\n",
       "<tr><td>DADA</td><td>8</td></tr>\n",
       "<tr><td>DD3C</td><td>4</td></tr>\n",
       "<tr><td>DD3D</td><td>4</td></tr>\n",
       "<tr><td>FA0101</td><td>13</td></tr>\n",
       "<tr><td>...</td><td>...</td></tr>\n",
       "<tr><td>Utest5</td><td>2</td></tr>\n",
       "<tr><td>Utest6</td><td>1</td></tr>\n",
       "<tr><td>Utesta</td><td>1</td></tr>\n",
       "<tr><td>Utwilt</td><td>66</td></tr>\n",
       "<tr><td>Uwitch</td><td>11</td></tr>\n",
       "<tr><td>pec1</td><td>1</td></tr>\n",
       "<tr><td>test1</td><td>4</td></tr>\n",
       "<tr><td>test2</td><td>2</td></tr>\n",
       "<tr><td>test3</td><td>4</td></tr>\n",
       "<tr><td>test4</td><td>4</td></tr>\n",
       "</table>"
      ],
      "text/plain": [
       "<Table length=7894>\n",
       " Field   number\n",
       "  str8   int64 \n",
       "-------- ------\n",
       "2002LZ11      4\n",
       "2002lz11      4\n",
       "    D8B8      8\n",
       "    D9A2     13\n",
       "    DAC2      4\n",
       "    DAC3     12\n",
       "    DADA      8\n",
       "    DD3C      4\n",
       "    DD3D      4\n",
       "  FA0101     13\n",
       "     ...    ...\n",
       "  Utest5      2\n",
       "  Utest6      1\n",
       "  Utesta      1\n",
       "  Utwilt     66\n",
       "  Uwitch     11\n",
       "    pec1      1\n",
       "   test1      4\n",
       "   test2      2\n",
       "   test3      4\n",
       "   test4      4"
      ]
     },
     "execution_count": 35,
     "metadata": {},
     "output_type": "execute_result"
    }
   ],
   "source": [
    "cid=Table.read('CRTS_id_num.txt',format='ascii',names=('Field','number'))\n",
    "cid"
   ]
  },
  {
   "cell_type": "code",
   "execution_count": 37,
   "metadata": {},
   "outputs": [
    {
     "data": {
      "text/html": [
       "&lt;Table length=15629&gt;\n",
       "<table id=\"table4630218256\" class=\"table-striped table-bordered table-condensed\">\n",
       "<thead><tr><th>col1</th><th>col2</th><th>col3</th><th>col4</th><th>col5</th><th>col6</th><th>col7</th><th>col8</th><th>col9</th></tr></thead>\n",
       "<thead><tr><th>str10</th><th>int64</th><th>str4</th><th>str4</th><th>str4</th><th>str3</th><th>int64</th><th>str5</th><th>str45</th></tr></thead>\n",
       "<tr><td>-rw-rw-r--</td><td>1</td><td>emgw</td><td>emgw</td><td>2.9K</td><td>Oct</td><td>23</td><td>02:15</td><td>2002lz11/2002lz11_clip_mask_SBG_Y.fits</td></tr>\n",
       "<tr><td>-rw-rw-r--</td><td>1</td><td>emgw</td><td>emgw</td><td>2.9K</td><td>Oct</td><td>23</td><td>02:15</td><td>2002lz11/2002lz11_clip_mask_SBG_Y.weight.fits</td></tr>\n",
       "<tr><td>-rw-rw-r--</td><td>1</td><td>emgw</td><td>emgw</td><td>73M</td><td>Oct</td><td>23</td><td>03:36</td><td>D8B8/D8B8_clip_mask_SBG_Y.fits</td></tr>\n",
       "<tr><td>-rw-rw-r--</td><td>1</td><td>emgw</td><td>emgw</td><td>73M</td><td>Oct</td><td>23</td><td>03:36</td><td>D8B8/D8B8_clip_mask_SBG_Y.weight.fits</td></tr>\n",
       "<tr><td>-rw-rw-r--</td><td>1</td><td>emgw</td><td>emgw</td><td>221M</td><td>Oct</td><td>23</td><td>00:07</td><td>D9A2/D9A2_clip_mask_SBG_Y.fits</td></tr>\n",
       "<tr><td>-rw-rw-r--</td><td>1</td><td>emgw</td><td>emgw</td><td>221M</td><td>Oct</td><td>23</td><td>00:07</td><td>D9A2/D9A2_clip_mask_SBG_Y.weight.fits</td></tr>\n",
       "<tr><td>-rw-rw-r--</td><td>1</td><td>emgw</td><td>emgw</td><td>73M</td><td>Oct</td><td>23</td><td>06:07</td><td>DAC2/DAC2_clip_mask_SBG_Y.fits</td></tr>\n",
       "<tr><td>-rw-rw-r--</td><td>1</td><td>emgw</td><td>emgw</td><td>73M</td><td>Oct</td><td>23</td><td>06:07</td><td>DAC2/DAC2_clip_mask_SBG_Y.weight.fits</td></tr>\n",
       "<tr><td>-rw-rw-r--</td><td>1</td><td>emgw</td><td>emgw</td><td>497M</td><td>Oct</td><td>23</td><td>03:45</td><td>DAC3/DAC3_clip_mask_SBG_Y.fits</td></tr>\n",
       "<tr><td>-rw-rw-r--</td><td>1</td><td>emgw</td><td>emgw</td><td>497M</td><td>Oct</td><td>23</td><td>03:44</td><td>DAC3/DAC3_clip_mask_SBG_Y.weight.fits</td></tr>\n",
       "<tr><td>...</td><td>...</td><td>...</td><td>...</td><td>...</td><td>...</td><td>...</td><td>...</td><td>...</td></tr>\n",
       "<tr><td>-rw-rw-r--</td><td>1</td><td>emgw</td><td>emgw</td><td>73M</td><td>Oct</td><td>23</td><td>02:03</td><td>UXXXXX/UXXXXX_clip_mask_SBG_Y.fits</td></tr>\n",
       "<tr><td>-rw-rw-r--</td><td>1</td><td>emgw</td><td>emgw</td><td>73M</td><td>Oct</td><td>23</td><td>02:03</td><td>UXXXXX/UXXXXX_clip_mask_SBG_Y.weight.fits</td></tr>\n",
       "<tr><td>-rw-rw-r--</td><td>1</td><td>emgw</td><td>emgw</td><td>72M</td><td>Oct</td><td>23</td><td>01:36</td><td>UY0500/UY0500_clip_mask_SBG_Y.fits</td></tr>\n",
       "<tr><td>-rw-rw-r--</td><td>1</td><td>emgw</td><td>emgw</td><td>72M</td><td>Oct</td><td>23</td><td>01:36</td><td>UY0500/UY0500_clip_mask_SBG_Y.weight.fits</td></tr>\n",
       "<tr><td>-rw-rw-r--</td><td>1</td><td>emgw</td><td>emgw</td><td>72M</td><td>Oct</td><td>23</td><td>07:43</td><td>UY3987/UY3987_clip_mask_SBG_Y.fits</td></tr>\n",
       "<tr><td>-rw-rw-r--</td><td>1</td><td>emgw</td><td>emgw</td><td>72M</td><td>Oct</td><td>23</td><td>07:43</td><td>UY3987/UY3987_clip_mask_SBG_Y.weight.fits</td></tr>\n",
       "<tr><td>-rw-rw-r--</td><td>1</td><td>emgw</td><td>emgw</td><td>73M</td><td>Oct</td><td>23</td><td>04:14</td><td>UYM9B4/UYM9B4_clip_mask_SBG_Y.fits</td></tr>\n",
       "<tr><td>-rw-rw-r--</td><td>1</td><td>emgw</td><td>emgw</td><td>73M</td><td>Oct</td><td>23</td><td>04:14</td><td>UYM9B4/UYM9B4_clip_mask_SBG_Y.weight.fits</td></tr>\n",
       "<tr><td>-rw-rw-r--</td><td>1</td><td>emgw</td><td>emgw</td><td>74M</td><td>Oct</td><td>23</td><td>05:40</td><td>UYO128/UYO128_clip_mask_SBG_Y.fits</td></tr>\n",
       "<tr><td>-rw-rw-r--</td><td>1</td><td>emgw</td><td>emgw</td><td>74M</td><td>Oct</td><td>23</td><td>05:40</td><td>UYO128/UYO128_clip_mask_SBG_Y.weight.fits</td></tr>\n",
       "</table>"
      ],
      "text/plain": [
       "<Table length=15629>\n",
       "   col1     col2 col3 ...  col8                      col9                    \n",
       "  str10    int64 str4 ...  str5                     str45                    \n",
       "---------- ----- ---- ... ----- ---------------------------------------------\n",
       "-rw-rw-r--     1 emgw ... 02:15        2002lz11/2002lz11_clip_mask_SBG_Y.fits\n",
       "-rw-rw-r--     1 emgw ... 02:15 2002lz11/2002lz11_clip_mask_SBG_Y.weight.fits\n",
       "-rw-rw-r--     1 emgw ... 03:36                D8B8/D8B8_clip_mask_SBG_Y.fits\n",
       "-rw-rw-r--     1 emgw ... 03:36         D8B8/D8B8_clip_mask_SBG_Y.weight.fits\n",
       "-rw-rw-r--     1 emgw ... 00:07                D9A2/D9A2_clip_mask_SBG_Y.fits\n",
       "-rw-rw-r--     1 emgw ... 00:07         D9A2/D9A2_clip_mask_SBG_Y.weight.fits\n",
       "-rw-rw-r--     1 emgw ... 06:07                DAC2/DAC2_clip_mask_SBG_Y.fits\n",
       "-rw-rw-r--     1 emgw ... 06:07         DAC2/DAC2_clip_mask_SBG_Y.weight.fits\n",
       "-rw-rw-r--     1 emgw ... 03:45                DAC3/DAC3_clip_mask_SBG_Y.fits\n",
       "-rw-rw-r--     1 emgw ... 03:44         DAC3/DAC3_clip_mask_SBG_Y.weight.fits\n",
       "       ...   ...  ... ...   ...                                           ...\n",
       "-rw-rw-r--     1 emgw ... 02:03            UXXXXX/UXXXXX_clip_mask_SBG_Y.fits\n",
       "-rw-rw-r--     1 emgw ... 02:03     UXXXXX/UXXXXX_clip_mask_SBG_Y.weight.fits\n",
       "-rw-rw-r--     1 emgw ... 01:36            UY0500/UY0500_clip_mask_SBG_Y.fits\n",
       "-rw-rw-r--     1 emgw ... 01:36     UY0500/UY0500_clip_mask_SBG_Y.weight.fits\n",
       "-rw-rw-r--     1 emgw ... 07:43            UY3987/UY3987_clip_mask_SBG_Y.fits\n",
       "-rw-rw-r--     1 emgw ... 07:43     UY3987/UY3987_clip_mask_SBG_Y.weight.fits\n",
       "-rw-rw-r--     1 emgw ... 04:14            UYM9B4/UYM9B4_clip_mask_SBG_Y.fits\n",
       "-rw-rw-r--     1 emgw ... 04:14     UYM9B4/UYM9B4_clip_mask_SBG_Y.weight.fits\n",
       "-rw-rw-r--     1 emgw ... 05:40            UYO128/UYO128_clip_mask_SBG_Y.fits\n",
       "-rw-rw-r--     1 emgw ... 05:40     UYO128/UYO128_clip_mask_SBG_Y.weight.fits"
      ]
     },
     "execution_count": 37,
     "metadata": {},
     "output_type": "execute_result"
    }
   ],
   "source": [
    "ls=Table.read('FITS.txt',format='ascii')\n",
    "ls"
   ]
  },
  {
   "cell_type": "code",
   "execution_count": 39,
   "metadata": {},
   "outputs": [
    {
     "data": {
      "text/html": [
       "&lt;Table length=5&gt;\n",
       "<table id=\"table4816698000\" class=\"table-striped table-bordered table-condensed\">\n",
       "<thead><tr><th>Field</th><th>Co-T</th><th>To-T</th><th>date</th><th>time</th></tr></thead>\n",
       "<thead><tr><th>str6</th><th>float64</th><th>float64</th><th>str10</th><th>str8</th></tr></thead>\n",
       "<tr><td>FK3007</td><td>0.02</td><td>48.98</td><td>2015-10-22</td><td>23:09:10</td></tr>\n",
       "<tr><td>test1</td><td>0.02</td><td>39.87</td><td>2015-10-23</td><td>02:48:45</td></tr>\n",
       "<tr><td>test2</td><td>0.02</td><td>56.66</td><td>2015-10-23</td><td>02:49:34</td></tr>\n",
       "<tr><td>test3</td><td>0.02</td><td>52.75</td><td>2015-10-23</td><td>02:50:48</td></tr>\n",
       "<tr><td>test4</td><td>0.02</td><td>35.89</td><td>2015-10-23</td><td>02:51:51</td></tr>\n",
       "</table>"
      ],
      "text/plain": [
       "<Table length=5>\n",
       "Field    Co-T    To-T     date      time  \n",
       " str6  float64 float64   str10      str8  \n",
       "------ ------- ------- ---------- --------\n",
       "FK3007    0.02   48.98 2015-10-22 23:09:10\n",
       " test1    0.02   39.87 2015-10-23 02:48:45\n",
       " test2    0.02   56.66 2015-10-23 02:49:34\n",
       " test3    0.02   52.75 2015-10-23 02:50:48\n",
       " test4    0.02   35.89 2015-10-23 02:51:51"
      ]
     },
     "execution_count": 39,
     "metadata": {},
     "output_type": "execute_result"
    }
   ],
   "source": [
    "sse=Table.read('SSE_Coadd_FAIL.txt',format='ascii')\n",
    "sse['Field','Co-T','To-T','date','time']"
   ]
  },
  {
   "cell_type": "code",
   "execution_count": 43,
   "metadata": {},
   "outputs": [
    {
     "data": {
      "text/html": [
       "&lt;Table length=2&gt;\n",
       "<table id=\"table4582864528\" class=\"table-striped table-bordered table-condensed\">\n",
       "<thead><tr><th>Field</th><th>Co-T</th><th>To-T</th><th>date</th><th>time</th></tr></thead>\n",
       "<thead><tr><th>str6</th><th>float64</th><th>float64</th><th>str10</th><th>str8</th></tr></thead>\n",
       "<tr><td>FD1901</td><td>0.03</td><td>91.98</td><td>2015-10-20</td><td>04:39:07</td></tr>\n",
       "<tr><td>U29109</td><td>0.02</td><td>112.47</td><td>2015-10-20</td><td>04:40:44</td></tr>\n",
       "</table>"
      ],
      "text/plain": [
       "<Table length=2>\n",
       "Field    Co-T    To-T     date      time  \n",
       " str6  float64 float64   str10      str8  \n",
       "------ ------- ------- ---------- --------\n",
       "FD1901    0.03   91.98 2015-10-20 04:39:07\n",
       "U29109    0.02  112.47 2015-10-20 04:40:44"
      ]
     },
     "execution_count": 43,
     "metadata": {},
     "output_type": "execute_result"
    }
   ],
   "source": [
    "scf=Table.read('Sc_Coadd_FAIL.txt',format='ascii')\n",
    "scf['Field','Co-T','To-T','date','time']"
   ]
  },
  {
   "cell_type": "code",
   "execution_count": 45,
   "metadata": {},
   "outputs": [
    {
     "data": {
      "text/html": [
       "&lt;Table length=1260&gt;\n",
       "<table id=\"table4653628816\" class=\"table-striped table-bordered table-condensed\">\n",
       "<thead><tr><th>Field</th><th>Less scattered</th><th>Good WCS</th><th>Failed Mask</th><th>Poor WCS</th><th>Failed WCS</th><th>tot</th><th>fr</th><th>na</th></tr></thead>\n",
       "<thead><tr><th>str6</th><th>int64</th><th>int64</th><th>int64</th><th>int64</th><th>int64</th><th>int64</th><th>float64</th><th>str1</th></tr></thead>\n",
       "<tr><td>FJ1304</td><td>4</td><td>8</td><td>0</td><td>0</td><td>0</td><td>8</td><td>0.5</td><td>F</td></tr>\n",
       "<tr><td>FJ1606</td><td>8</td><td>12</td><td>0</td><td>0</td><td>0</td><td>12</td><td>0.67</td><td>F</td></tr>\n",
       "<tr><td>FC0107</td><td>4</td><td>8</td><td>0</td><td>0</td><td>0</td><td>8</td><td>0.5</td><td>F</td></tr>\n",
       "<tr><td>FB0209</td><td>4</td><td>8</td><td>0</td><td>0</td><td>0</td><td>8</td><td>0.5</td><td>F</td></tr>\n",
       "<tr><td>FK2804</td><td>4</td><td>8</td><td>0</td><td>0</td><td>0</td><td>8</td><td>0.5</td><td>F</td></tr>\n",
       "<tr><td>FI2902</td><td>4</td><td>8</td><td>0</td><td>0</td><td>0</td><td>8</td><td>0.5</td><td>F</td></tr>\n",
       "<tr><td>FA0202</td><td>4</td><td>8</td><td>0</td><td>0</td><td>0</td><td>8</td><td>0.5</td><td>F</td></tr>\n",
       "<tr><td>FD1901</td><td>4</td><td>16</td><td>0</td><td>0</td><td>0</td><td>16</td><td>0.25</td><td>F</td></tr>\n",
       "<tr><td>FJ2205</td><td>5</td><td>9</td><td>0</td><td>0</td><td>0</td><td>9</td><td>0.56</td><td>F</td></tr>\n",
       "<tr><td>FB1301</td><td>4</td><td>12</td><td>4</td><td>0</td><td>0</td><td>16</td><td>0.25</td><td>F</td></tr>\n",
       "<tr><td>...</td><td>...</td><td>...</td><td>...</td><td>...</td><td>...</td><td>...</td><td>...</td><td>...</td></tr>\n",
       "<tr><td>FK1202</td><td>12</td><td>32</td><td>0</td><td>0</td><td>0</td><td>32</td><td>0.38</td><td>F</td></tr>\n",
       "<tr><td>FC0908</td><td>4</td><td>8</td><td>0</td><td>0</td><td>0</td><td>8</td><td>0.5</td><td>F</td></tr>\n",
       "<tr><td>FC0201</td><td>8</td><td>20</td><td>0</td><td>0</td><td>0</td><td>20</td><td>0.4</td><td>F</td></tr>\n",
       "<tr><td>U73P06</td><td>4</td><td>8</td><td>0</td><td>0</td><td>0</td><td>8</td><td>0.5</td><td>U</td></tr>\n",
       "<tr><td>FA0703</td><td>4</td><td>8</td><td>0</td><td>0</td><td>0</td><td>8</td><td>0.5</td><td>F</td></tr>\n",
       "<tr><td>FB2103</td><td>8</td><td>24</td><td>0</td><td>0</td><td>0</td><td>24</td><td>0.33</td><td>F</td></tr>\n",
       "<tr><td>FK1605</td><td>5</td><td>17</td><td>0</td><td>0</td><td>0</td><td>17</td><td>0.29</td><td>F</td></tr>\n",
       "<tr><td>FI0401</td><td>12</td><td>16</td><td>0</td><td>0</td><td>0</td><td>16</td><td>0.75</td><td>F</td></tr>\n",
       "<tr><td>FB0104</td><td>8</td><td>20</td><td>0</td><td>0</td><td>0</td><td>20</td><td>0.4</td><td>F</td></tr>\n",
       "<tr><td>FB1502</td><td>4</td><td>8</td><td>0</td><td>0</td><td>0</td><td>8</td><td>0.5</td><td>F</td></tr>\n",
       "</table>"
      ],
      "text/plain": [
       "<Table length=1260>\n",
       "Field  Less scattered Good WCS Failed Mask ... Failed WCS  tot     fr    na \n",
       " str6      int64       int64      int64    ...   int64    int64 float64 str1\n",
       "------ -------------- -------- ----------- ... ---------- ----- ------- ----\n",
       "FJ1304              4        8           0 ...          0     8     0.5    F\n",
       "FJ1606              8       12           0 ...          0    12    0.67    F\n",
       "FC0107              4        8           0 ...          0     8     0.5    F\n",
       "FB0209              4        8           0 ...          0     8     0.5    F\n",
       "FK2804              4        8           0 ...          0     8     0.5    F\n",
       "FI2902              4        8           0 ...          0     8     0.5    F\n",
       "FA0202              4        8           0 ...          0     8     0.5    F\n",
       "FD1901              4       16           0 ...          0    16    0.25    F\n",
       "FJ2205              5        9           0 ...          0     9    0.56    F\n",
       "FB1301              4       12           4 ...          0    16    0.25    F\n",
       "   ...            ...      ...         ... ...        ...   ...     ...  ...\n",
       "FK1202             12       32           0 ...          0    32    0.38    F\n",
       "FC0908              4        8           0 ...          0     8     0.5    F\n",
       "FC0201              8       20           0 ...          0    20     0.4    F\n",
       "U73P06              4        8           0 ...          0     8     0.5    U\n",
       "FA0703              4        8           0 ...          0     8     0.5    F\n",
       "FB2103              8       24           0 ...          0    24    0.33    F\n",
       "FK1605              5       17           0 ...          0    17    0.29    F\n",
       "FI0401             12       16           0 ...          0    16    0.75    F\n",
       "FB0104              8       20           0 ...          0    20     0.4    F\n",
       "FB1502              4        8           0 ...          0     8     0.5    F"
      ]
     },
     "execution_count": 45,
     "metadata": {},
     "output_type": "execute_result"
    }
   ],
   "source": [
    "scl=Table.read('scatter_list.txt',format='ascii')\n",
    "scl"
   ]
  },
  {
   "cell_type": "code",
   "execution_count": 46,
   "metadata": {},
   "outputs": [
    {
     "data": {
      "text/html": [
       "&lt;Table length=3074&gt;\n",
       "<table id=\"table4641288016\" class=\"table-striped table-bordered table-condensed\">\n",
       "<thead><tr><th>Field</th><th>wcs_err</th><th>tot</th></tr></thead>\n",
       "<thead><tr><th>str8</th><th>int64</th><th>int64</th></tr></thead>\n",
       "<tr><td>FK2801</td><td>4</td><td>12</td></tr>\n",
       "<tr><td>N32034</td><td>14</td><td>303</td></tr>\n",
       "<tr><td>U0C64C</td><td>1</td><td>4</td></tr>\n",
       "<tr><td>FF1801</td><td>4</td><td>24</td></tr>\n",
       "<tr><td>FK2502</td><td>5</td><td>21</td></tr>\n",
       "<tr><td>U3883G</td><td>1</td><td>8</td></tr>\n",
       "<tr><td>N46001</td><td>5</td><td>59</td></tr>\n",
       "<tr><td>FK2204</td><td>1</td><td>9</td></tr>\n",
       "<tr><td>N55039</td><td>4</td><td>116</td></tr>\n",
       "<tr><td>N04043</td><td>8</td><td>238</td></tr>\n",
       "<tr><td>...</td><td>...</td><td>...</td></tr>\n",
       "<tr><td>N01017</td><td>14</td><td>349</td></tr>\n",
       "<tr><td>N12094</td><td>5</td><td>31</td></tr>\n",
       "<tr><td>N15112</td><td>8</td><td>358</td></tr>\n",
       "<tr><td>N52058</td><td>4</td><td>183</td></tr>\n",
       "<tr><td>S04004</td><td>15</td><td>257</td></tr>\n",
       "<tr><td>S23060</td><td>4</td><td>43</td></tr>\n",
       "<tr><td>test1</td><td>4</td><td>4</td></tr>\n",
       "<tr><td>test2</td><td>2</td><td>2</td></tr>\n",
       "<tr><td>test3</td><td>4</td><td>4</td></tr>\n",
       "<tr><td>test4</td><td>4</td><td>4</td></tr>\n",
       "</table>"
      ],
      "text/plain": [
       "<Table length=3074>\n",
       "Field  wcs_err  tot \n",
       " str8   int64  int64\n",
       "------ ------- -----\n",
       "FK2801       4    12\n",
       "N32034      14   303\n",
       "U0C64C       1     4\n",
       "FF1801       4    24\n",
       "FK2502       5    21\n",
       "U3883G       1     8\n",
       "N46001       5    59\n",
       "FK2204       1     9\n",
       "N55039       4   116\n",
       "N04043       8   238\n",
       "   ...     ...   ...\n",
       "N01017      14   349\n",
       "N12094       5    31\n",
       "N15112       8   358\n",
       "N52058       4   183\n",
       "S04004      15   257\n",
       "S23060       4    43\n",
       " test1       4     4\n",
       " test2       2     2\n",
       " test3       4     4\n",
       " test4       4     4"
      ]
     },
     "execution_count": 46,
     "metadata": {},
     "output_type": "execute_result"
    }
   ],
   "source": [
    "wc=Table.read('wcs_error_list.txt',format='ascii')\n",
    "wc"
   ]
  },
  {
   "cell_type": "code",
   "execution_count": null,
   "metadata": {},
   "outputs": [],
   "source": []
  }
 ],
 "metadata": {
  "kernelspec": {
   "display_name": "Python [conda env:anaconda]",
   "language": "python",
   "name": "conda-env-anaconda-py"
  },
  "language_info": {
   "codemirror_mode": {
    "name": "ipython",
    "version": 2
   },
   "file_extension": ".py",
   "mimetype": "text/x-python",
   "name": "python",
   "nbconvert_exporter": "python",
   "pygments_lexer": "ipython2",
   "version": "2.7.15"
  }
 },
 "nbformat": 4,
 "nbformat_minor": 4
}
